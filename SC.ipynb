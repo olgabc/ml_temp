{
 "cells": [
  {
   "cell_type": "markdown",
   "metadata": {},
   "source": [
    "ipython_vars = ['In', 'Out', 'exit', 'quit', 'get_ipython', 'ipython_vars']\n",
    "sorted(\n",
    "    [(x, sys.getsizeof(globals().get(x))) for x in dir() if not x.startswith('_') and x not in sys.modules and x not in ipython_vars],\n",
    "    key=lambda x: x[1],\n",
    "    reverse=True\n",
    ")"
   ]
  },
  {
   "cell_type": "code",
   "execution_count": 1,
   "metadata": {},
   "outputs": [],
   "source": [
    "#https://riptutorial.com/ru/ipython/example/18167/store-variables-on-ipython\n",
    "# https://habr.com/ru/company/wunderfund/blog/316826/\n"
   ]
  },
  {
   "cell_type": "code",
   "execution_count": 2,
   "metadata": {},
   "outputs": [],
   "source": [
    "import pandas as pd\n",
    "from sc_tables import BigCSVTable\n",
    "import os\n",
    "import sys"
   ]
  },
  {
   "cell_type": "code",
   "execution_count": 3,
   "metadata": {},
   "outputs": [
    {
     "name": "stdout",
     "output_type": "stream",
     "text": [
      "['D:\\\\test_csvs\\\\2018_11.csv', 'D:\\\\test_csvs\\\\2018_12.csv']\n"
     ]
    }
   ],
   "source": [
    "file_names = os.listdir(r'D:\\test_csvs')\n",
    "file_names = [r'D:\\test_csvs\\{}'.format(file_name) for file_name in file_names]\n",
    "print(file_names)"
   ]
  },
  {
   "cell_type": "code",
   "execution_count": 4,
   "metadata": {
    "scrolled": true
   },
   "outputs": [
    {
     "name": "stdout",
     "output_type": "stream",
     "text": [
      "       id            date_1            date_2\n",
      "0     123   01.01.2018 8:55  01.01.2018 11:55\n",
      "1     432   04.01.2018 8:55   04.01.2018 8:59\n",
      "2    5436   01.11.2018 8:35  01.11.2018 11:55\n",
      "3     675   01.01.2018 8:55  11.01.2018 11:55\n",
      "4     456   11.01.2018 8:58   13.01.2018 8:58\n",
      "5     564  21.03.2018 18:59  28.04.2018 18:59\n",
      "6  545645  03.02.2018 12:20  01.11.2018 12:40\n",
      "7  564564  06.05.2018 11:41  06.08.2018 14:31\n",
      "8     543   01.01.2018 8:12   01.07.2018 8:22\n"
     ]
    }
   ],
   "source": [
    "table = BigCSVTable(\n",
    "    #file_names, \n",
    "    [file_names[1]],\n",
    "    dtype={'id':int,}, \n",
    "    #usecols=['id', 'date_1'],\n",
    "    date_cols=['date_1_tf', 'date_2_tf']\n",
    ")"
   ]
  },
  {
   "cell_type": "markdown",
   "metadata": {},
   "source": [
    "%store table\n",
    "%store -r table\n",
    "%reset"
   ]
  },
  {
   "cell_type": "code",
   "execution_count": 5,
   "metadata": {},
   "outputs": [
    {
     "name": "stdout",
     "output_type": "stream",
     "text": [
      "(0    2018-01-01\n",
      "1    2018-01-04\n",
      "2    2018-11-01\n",
      "3    2018-01-01\n",
      "4    2018-01-11\n",
      "5    2018-03-21\n",
      "6    2018-02-03\n",
      "7    2018-05-06\n",
      "8    2018-01-01\n",
      "Name: date_1_DATE, dtype: object, 0    2018-01-01\n",
      "1    2018-01-04\n",
      "2    2018-11-01\n",
      "3    2018-01-11\n",
      "4    2018-01-13\n",
      "5    2018-04-28\n",
      "6    2018-11-01\n",
      "7    2018-08-06\n",
      "8    2018-07-01\n",
      "Name: date_2_DATE, dtype: object)\n",
      "<class 'pandas.core.frame.DataFrame'>\n",
      "RangeIndex: 9 entries, 0 to 8\n",
      "Data columns (total 7 columns):\n",
      "id                      9 non-null int32\n",
      "date_1                  9 non-null datetime64[ns]\n",
      "date_2                  9 non-null datetime64[ns]\n",
      "date_1_DATE             9 non-null object\n",
      "date_2_DATE             9 non-null object\n",
      "date_2-date_1(DATES)    9 non-null int64\n",
      "date_2-date_1(TIME)     9 non-null float64\n",
      "dtypes: datetime64[ns](2), float64(1), int32(1), int64(1), object(2)\n",
      "memory usage: 436.0+ bytes\n",
      "None\n"
     ]
    }
   ],
   "source": [
    "table.get_extra_dates(\n",
    "    df_years=['date_1'],\n",
    "    df_months=['date_2'],\n",
    "    df_days=['date_2'],\n",
    "    df_hours=['date_2', 'date_1'],\n",
    "    df_dates=['date_2', 'date_1'],\n",
    "    df_daysofweek=['date_2', 'date_1'],\n",
    "    df_days_delta=('date_1', 'date_2'),\n",
    "    df_time_delta=('date_1', 'date_2'),    \n",
    ")\n",
    "print(table.df.info())"
   ]
  },
  {
   "cell_type": "code",
   "execution_count": 6,
   "metadata": {},
   "outputs": [
    {
     "data": {
      "text/plain": [
       "[('BigCSVTable', 536), ('file_names', 52), ('pd', 44), ('table', 32)]"
      ]
     },
     "execution_count": 6,
     "metadata": {},
     "output_type": "execute_result"
    }
   ],
   "source": [
    "ipython_vars = ['In', 'Out', 'exit', 'quit', 'get_ipython', 'ipython_vars']\n",
    "sorted(\n",
    "    [(x, sys.getsizeof(globals().get(x))) for x in dir() if not x.startswith('_') and x not in sys.modules and x not in ipython_vars], \n",
    "    key=lambda x: x[1], \n",
    "    reverse=True\n",
    ")"
   ]
  },
  {
   "cell_type": "code",
   "execution_count": 7,
   "metadata": {},
   "outputs": [
    {
     "name": "stdout",
     "output_type": "stream",
     "text": [
      "       id              date_1              date_2 date_1_DATE date_2_DATE  \\\n",
      "0     123 2018-01-01 08:55:00 2018-01-01 11:55:00  2018-01-01  2018-01-01   \n",
      "1     432 2018-01-04 08:55:00 2018-01-04 08:59:00  2018-01-04  2018-01-04   \n",
      "2    5436 2018-11-01 08:35:00 2018-11-01 11:55:00  2018-11-01  2018-11-01   \n",
      "3     675 2018-01-01 08:55:00 2018-01-11 11:55:00  2018-01-01  2018-01-11   \n",
      "4     456 2018-01-11 08:58:00 2018-01-13 08:58:00  2018-01-11  2018-01-13   \n",
      "5     564 2018-03-21 18:59:00 2018-04-28 18:59:00  2018-03-21  2018-04-28   \n",
      "6  545645 2018-02-03 12:20:00 2018-11-01 12:40:00  2018-02-03  2018-11-01   \n",
      "7  564564 2018-05-06 11:41:00 2018-08-06 14:31:00  2018-05-06  2018-08-06   \n",
      "8     543 2018-01-01 08:12:00 2018-07-01 08:22:00  2018-01-01  2018-07-01   \n",
      "\n",
      "   date_2-date_1(DATES)  date_2-date_1(TIME)  \n",
      "0                     0                180.0  \n",
      "1                     0                  4.0  \n",
      "2                     0                200.0  \n",
      "3                    10                180.0  \n",
      "4                     2                  0.0  \n",
      "5                    38                  0.0  \n",
      "6                   271                 20.0  \n",
      "7                    92                170.0  \n",
      "8                   181                 10.0  \n",
      "<class 'pandas.core.frame.DataFrame'>\n",
      "RangeIndex: 9 entries, 0 to 8\n",
      "Data columns (total 7 columns):\n",
      "id                      9 non-null int32\n",
      "date_1                  9 non-null datetime64[ns]\n",
      "date_2                  9 non-null datetime64[ns]\n",
      "date_1_DATE             9 non-null object\n",
      "date_2_DATE             9 non-null object\n",
      "date_2-date_1(DATES)    9 non-null int64\n",
      "date_2-date_1(TIME)     9 non-null float64\n",
      "dtypes: datetime64[ns](2), float64(1), int32(1), int64(1), object(2)\n",
      "memory usage: 436.0+ bytes\n",
      "None\n"
     ]
    }
   ],
   "source": [
    "print(table.df)\n",
    "print(table.df.info())"
   ]
  },
  {
   "cell_type": "code",
   "execution_count": 8,
   "metadata": {},
   "outputs": [
    {
     "data": {
      "text/plain": [
       "Timedelta('-106752 days +00:12:43.145224')"
      ]
     },
     "execution_count": 8,
     "metadata": {},
     "output_type": "execute_result"
    }
   ],
   "source": [
    "pd.Timedelta.min"
   ]
  }
 ],
 "metadata": {
  "kernelspec": {
   "display_name": "Python 3",
   "language": "python",
   "name": "python3"
  },
  "language_info": {
   "codemirror_mode": {
    "name": "ipython",
    "version": 3
   },
   "file_extension": ".py",
   "mimetype": "text/x-python",
   "name": "python",
   "nbconvert_exporter": "python",
   "pygments_lexer": "ipython3",
   "version": "3.6.5"
  }
 },
 "nbformat": 4,
 "nbformat_minor": 2
}
